{
 "cells": [
  {
   "cell_type": "markdown",
   "id": "a39945e5",
   "metadata": {},
   "source": [
    "# Problem 8: Fit One Cycle"
   ]
  },
  {
   "cell_type": "code",
   "execution_count": 1,
   "id": "ac8ac26f",
   "metadata": {},
   "outputs": [],
   "source": [
    "x = [1, 2, 3, 6, 8, 11, 12, 13, 14, 15]\n",
    "y = [10, 6, 4, 4, 4, 1, 4, 6, 2, 7]"
   ]
  },
  {
   "cell_type": "code",
   "execution_count": 2,
   "id": "16838995",
   "metadata": {},
   "outputs": [],
   "source": [
    "import matplotlib.pyplot as plt\n",
    "import numpy as np\n",
    "from fastai.learner import *"
   ]
  },
  {
   "cell_type": "code",
   "execution_count": 3,
   "id": "8aec2377",
   "metadata": {},
   "outputs": [
    {
     "data": {
      "text/plain": [
       "<matplotlib.collections.PathCollection at 0x7ff6b2300b90>"
      ]
     },
     "execution_count": 3,
     "metadata": {},
     "output_type": "execute_result"
    },
    {
     "data": {
      "image/png": "[encoded data removed]",
      "text/plain": [
       "<Figure size 432x288 with 1 Axes>"
      ]
     },
     "metadata": {
      "needs_background": "light"
     },
     "output_type": "display_data"
    }
   ],
   "source": [
    "plt.scatter(x, y)"
   ]
  },
  {
   "cell_type": "code",
   "execution_count": 4,
   "id": "13809922",
   "metadata": {},
   "outputs": [],
   "source": [
    "coeffs = np.polyfit(x, y, deg=9)\n",
    "poly = np.poly1d(coeffs)"
   ]
  },
  {
   "cell_type": "code",
   "execution_count": 5,
   "id": "19b508f8",
   "metadata": {},
   "outputs": [],
   "source": [
    "x_fit = np.linspace(1, 15, 100)\n",
    "y_fit = poly(x_fit)"
   ]
  },
  {
   "cell_type": "code",
   "execution_count": 6,
   "id": "4891d1a3",
   "metadata": {
    "scrolled": true
   },
   "outputs": [
    {
     "data": {
      "text/plain": [
       "[<matplotlib.lines.Line2D at 0x7ff6b24ae350>,\n",
       " <matplotlib.lines.Line2D at 0x7ff6b24305d0>]"
      ]
     },
     "execution_count": 6,
     "metadata": {},
     "output_type": "execute_result"
    },
    {
     "data": {
      "image/png": "[encoded data removed]",
      "text/plain": [
       "<Figure size 432x288 with 1 Axes>"
      ]
     },
     "metadata": {
      "needs_background": "light"
     },
     "output_type": "display_data"
    }
   ],
   "source": [
    "plt.plot(x, y, 'o', x_fit, y_fit)"
   ]
  },
  {
   "cell_type": "code",
   "execution_count": 17,
   "id": "d4549d09",
   "metadata": {},
   "outputs": [],
   "source": [
    "def p(x):\n",
    "    deg = 9\n",
    "    y = 0\n",
    "    for coeff in coeffs:\n",
    "        y += (x ** deg) * coeff\n",
    "        deg -= 1\n",
    "    return y"
   ]
  },
  {
   "cell_type": "code",
   "execution_count": 18,
   "id": "f4e23c4a",
   "metadata": {},
   "outputs": [],
   "source": [
    "import torch"
   ]
  },
  {
   "cell_type": "code",
   "execution_count": 19,
   "id": "bf9b82b6",
   "metadata": {},
   "outputs": [],
   "source": [
    "def find_stable_min(x):\n",
    "    x = torch.tensor(float(x)).requires_grad_()\n",
    "\n",
    "    for i in range(100):\n",
    "        loss = p(x)\n",
    "\n",
    "        lr = 0.1\n",
    "        if lr == None:\n",
    "            break\n",
    "\n",
    "        loss.backward()\n",
    "        x = (x - x.grad * lr).clone().detach().requires_grad_()\n",
    "    \n",
    "    return x"
   ]
  },
  {
   "cell_type": "code",
   "execution_count": 20,
   "id": "9eaf3e16",
   "metadata": {},
   "outputs": [],
   "source": [
    "starts = [1, 4, 11, 14, 15]"
   ]
  },
  {
   "cell_type": "code",
   "execution_count": 21,
   "id": "f55dd825",
   "metadata": {},
   "outputs": [
    {
     "name": "stdout",
     "output_type": "stream",
     "text": [
      "Minimum, when starting from 1 is: 4.121303558349609\n",
      "Minimum, when starting from 4 is: 4.238922119140625\n",
      "Minimum, when starting from 11 is: 10.41992473602295\n",
      "Minimum, when starting from 14 is: 13.957813262939453\n",
      "Minimum, when starting from 15 is: 10.421483993530273\n"
     ]
    }
   ],
   "source": [
    "for point in starts:\n",
    "    found_min = find_stable_min(point)\n",
    "    print(f'Minimum, when starting from {point} is: {found_min}')"
   ]
  }
 ],
 "metadata": {
  "kernelspec": {
   "display_name": "Python 3",
   "language": "python",
   "name": "python3"
  },
  "language_info": {
   "codemirror_mode": {
    "name": "ipython",
    "version": 3
   },
   "file_extension": ".py",
   "mimetype": "text/x-python",
   "name": "python",
   "nbconvert_exporter": "python",
   "pygments_lexer": "ipython3",
   "version": "3.7.10"
  }
 },
 "nbformat": 4,
 "nbformat_minor": 5
}
