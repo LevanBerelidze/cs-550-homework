{
 "cells": [
  {
   "cell_type": "markdown",
   "id": "e69148ea",
   "metadata": {},
   "source": [
    "# Problem 6: Random Forest for Tabular Data"
   ]
  },
  {
   "cell_type": "code",
   "execution_count": 19,
   "id": "ef308776",
   "metadata": {},
   "outputs": [],
   "source": [
    "import pandas as pd\n",
    "import numpy as np\n",
    "import math\n",
    "import matplotlib.pyplot as plt"
   ]
  },
  {
   "cell_type": "code",
   "execution_count": 20,
   "id": "d2e7eba1",
   "metadata": {},
   "outputs": [],
   "source": [
    "df = pd.read_csv('./data/petrol_consumption.csv')"
   ]
  },
  {
   "cell_type": "code",
   "execution_count": 21,
   "id": "7e7c44db",
   "metadata": {
    "scrolled": true
   },
   "outputs": [
    {
     "data": {
      "text/html": [
       "<div>\n",
       "<style scoped>\n",
       "    .dataframe tbody tr th:only-of-type {\n",
       "        vertical-align: middle;\n",
       "    }\n",
       "\n",
       "    .dataframe tbody tr th {\n",
       "        vertical-align: top;\n",
       "    }\n",
       "\n",
       "    .dataframe thead th {\n",
       "        text-align: right;\n",
       "    }\n",
       "</style>\n",
       "<table border=\"1\" class=\"dataframe\">\n",
       "  <thead>\n",
       "    <tr style=\"text-align: right;\">\n",
       "      <th></th>\n",
       "      <th>Petrol_tax</th>\n",
       "      <th>Average_income</th>\n",
       "      <th>Paved_Highways</th>\n",
       "      <th>Population_Driver_licence(%)</th>\n",
       "      <th>Petrol_Consumption</th>\n",
       "    </tr>\n",
       "  </thead>\n",
       "  <tbody>\n",
       "    <tr>\n",
       "      <th>0</th>\n",
       "      <td>9.0</td>\n",
       "      <td>3571</td>\n",
       "      <td>1976</td>\n",
       "      <td>0.525</td>\n",
       "      <td>541</td>\n",
       "    </tr>\n",
       "    <tr>\n",
       "      <th>1</th>\n",
       "      <td>9.0</td>\n",
       "      <td>4092</td>\n",
       "      <td>1250</td>\n",
       "      <td>0.572</td>\n",
       "      <td>524</td>\n",
       "    </tr>\n",
       "    <tr>\n",
       "      <th>2</th>\n",
       "      <td>9.0</td>\n",
       "      <td>3865</td>\n",
       "      <td>1586</td>\n",
       "      <td>0.580</td>\n",
       "      <td>561</td>\n",
       "    </tr>\n",
       "    <tr>\n",
       "      <th>3</th>\n",
       "      <td>7.5</td>\n",
       "      <td>4870</td>\n",
       "      <td>2351</td>\n",
       "      <td>0.529</td>\n",
       "      <td>414</td>\n",
       "    </tr>\n",
       "    <tr>\n",
       "      <th>4</th>\n",
       "      <td>8.0</td>\n",
       "      <td>4399</td>\n",
       "      <td>431</td>\n",
       "      <td>0.544</td>\n",
       "      <td>410</td>\n",
       "    </tr>\n",
       "  </tbody>\n",
       "</table>\n",
       "</div>"
      ],
      "text/plain": [
       "   Petrol_tax  Average_income  Paved_Highways  Population_Driver_licence(%)  \\\n",
       "0         9.0            3571            1976                         0.525   \n",
       "1         9.0            4092            1250                         0.572   \n",
       "2         9.0            3865            1586                         0.580   \n",
       "3         7.5            4870            2351                         0.529   \n",
       "4         8.0            4399             431                         0.544   \n",
       "\n",
       "   Petrol_Consumption  \n",
       "0                 541  \n",
       "1                 524  \n",
       "2                 561  \n",
       "3                 414  \n",
       "4                 410  "
      ]
     },
     "execution_count": 21,
     "metadata": {},
     "output_type": "execute_result"
    }
   ],
   "source": [
    "df.head()"
   ]
  },
  {
   "cell_type": "markdown",
   "id": "bb075f5d",
   "metadata": {},
   "source": [
    "### Split the dataset"
   ]
  },
  {
   "cell_type": "code",
   "execution_count": 22,
   "id": "3dd8a760",
   "metadata": {},
   "outputs": [],
   "source": [
    "from sklearn.model_selection import train_test_split"
   ]
  },
  {
   "cell_type": "code",
   "execution_count": 23,
   "id": "9e9cd1a9",
   "metadata": {},
   "outputs": [],
   "source": [
    "X = df.iloc[:, 0:4].values\n",
    "y = df.iloc[:, 4].values"
   ]
  },
  {
   "cell_type": "markdown",
   "id": "90037b64",
   "metadata": {},
   "source": [
    "Use 'random_state' parameter to obtain reproducible output across multiple function calls:"
   ]
  },
  {
   "cell_type": "code",
   "execution_count": 24,
   "id": "450ed39b",
   "metadata": {},
   "outputs": [],
   "source": [
    "X_train, X_test, y_train, y_test = train_test_split(X, y, test_size=0.2, random_state=0)"
   ]
  },
  {
   "cell_type": "markdown",
   "id": "d32faf88",
   "metadata": {},
   "source": [
    "### Scale the dataset"
   ]
  },
  {
   "cell_type": "code",
   "execution_count": 25,
   "id": "f1d42369",
   "metadata": {},
   "outputs": [],
   "source": [
    "from sklearn.preprocessing import StandardScaler"
   ]
  },
  {
   "cell_type": "code",
   "execution_count": 26,
   "id": "8cce3d5e",
   "metadata": {},
   "outputs": [],
   "source": [
    "scaler = StandardScaler()"
   ]
  },
  {
   "cell_type": "code",
   "execution_count": 27,
   "id": "b1fb5c06",
   "metadata": {},
   "outputs": [],
   "source": [
    "X_train = scaler.fit_transform(X_train)"
   ]
  },
  {
   "cell_type": "code",
   "execution_count": 28,
   "id": "90453411",
   "metadata": {},
   "outputs": [],
   "source": [
    "X_test = scaler.transform(X_test)"
   ]
  },
  {
   "cell_type": "markdown",
   "id": "2fd8116f",
   "metadata": {},
   "source": [
    "### Train the model"
   ]
  },
  {
   "cell_type": "code",
   "execution_count": 29,
   "id": "455dd60f",
   "metadata": {},
   "outputs": [],
   "source": [
    "from sklearn.ensemble import RandomForestRegressor\n",
    "from sklearn import metrics"
   ]
  },
  {
   "cell_type": "code",
   "execution_count": 30,
   "id": "82a8511d",
   "metadata": {},
   "outputs": [],
   "source": [
    "rf = RandomForestRegressor(random_state=0)"
   ]
  },
  {
   "cell_type": "code",
   "execution_count": 31,
   "id": "41fcf0d6",
   "metadata": {},
   "outputs": [
    {
     "data": {
      "text/plain": [
       "RandomForestRegressor(random_state=0)"
      ]
     },
     "execution_count": 31,
     "metadata": {},
     "output_type": "execute_result"
    }
   ],
   "source": [
    "rf.fit(X_train, y_train)"
   ]
  },
  {
   "cell_type": "code",
   "execution_count": 32,
   "id": "8731a0aa",
   "metadata": {},
   "outputs": [],
   "source": [
    "y_pred = rf.predict(X_test)"
   ]
  },
  {
   "cell_type": "code",
   "execution_count": 33,
   "id": "b0b6856f",
   "metadata": {
    "scrolled": true
   },
   "outputs": [
    {
     "name": "stdout",
     "output_type": "stream",
     "text": [
      "Mean Absolute Error: 47.972999999999985\n",
      "Mean Squared Error: 3618.161269999999\n",
      "Root Mean Squared Error: 60.151153521773786\n"
     ]
    }
   ],
   "source": [
    "print('Mean Absolute Error:', metrics.mean_absolute_error(y_test, y_pred))\n",
    "print('Mean Squared Error:', metrics.mean_squared_error(y_test, y_pred))\n",
    "print('Root Mean Squared Error:', np.sqrt(metrics.mean_squared_error(y_test, y_pred)))"
   ]
  },
  {
   "cell_type": "markdown",
   "id": "ae39e5f1",
   "metadata": {},
   "source": [
    "## Determine the optimal number of subtrees"
   ]
  },
  {
   "cell_type": "code",
   "execution_count": 55,
   "id": "f4a714e9",
   "metadata": {},
   "outputs": [],
   "source": [
    "n_estimators_list = []\n",
    "rmse_list = []"
   ]
  },
  {
   "cell_type": "code",
   "execution_count": 56,
   "id": "7fee3127",
   "metadata": {},
   "outputs": [],
   "source": [
    "for n_estimators in range(1, 201, 10):\n",
    "    rf = RandomForestRegressor(n_estimators=n_estimators, random_state=42)\n",
    "    rf.fit(X_train, y_train)\n",
    "    y_pred = rf.predict(X_test)\n",
    "    n_estimators_list.append(n_estimators)\n",
    "    rmse_list.append(np.sqrt(metrics.mean_squared_error(y_test, y_pred)))"
   ]
  },
  {
   "cell_type": "code",
   "execution_count": 61,
   "id": "3bbbc7d8",
   "metadata": {
    "scrolled": true
   },
   "outputs": [
    {
     "data": {
      "image/png": "[encoded data removed]",
      "text/plain": [
       "<Figure size 432x288 with 1 Axes>"
      ]
     },
     "metadata": {
      "needs_background": "light"
     },
     "output_type": "display_data"
    }
   ],
   "source": [
    "plt.plot(n_estimators_list, rmse_list, '-');"
   ]
  },
  {
   "cell_type": "code",
   "execution_count": 59,
   "id": "f3dd55a6",
   "metadata": {},
   "outputs": [],
   "source": [
    "min_n_estimators = None\n",
    "min_rmse = None\n",
    "\n",
    "for (n_estimators, rmse) in zip(n_estimators_list, rmse_list):\n",
    "    if min_rmse == None or rmse < min_rmse:\n",
    "        min_n_estimators = n_estimators\n",
    "        min_rmse = rmse"
   ]
  },
  {
   "cell_type": "code",
   "execution_count": 60,
   "id": "08dd45cf",
   "metadata": {
    "scrolled": true
   },
   "outputs": [
    {
     "name": "stdout",
     "output_type": "stream",
     "text": [
      "Optimal number of estimators is: 111, with RMSE = 59.75753643230077\n"
     ]
    }
   ],
   "source": [
    "print(f'Optimal number of estimators is: {min_n_estimators}, with RMSE = {min_rmse}')"
   ]
  },
  {
   "cell_type": "markdown",
   "id": "746b3c83",
   "metadata": {},
   "source": [
    "## Criterion parameter values"
   ]
  },
  {
   "cell_type": "markdown",
   "id": "c9514ecb",
   "metadata": {},
   "source": [
    "- Instead of using default MSE, use MAE (Mean Absolute Error):"
   ]
  },
  {
   "cell_type": "code",
   "execution_count": 63,
   "id": "87b514fc",
   "metadata": {},
   "outputs": [],
   "source": [
    "n_estimators_list = []\n",
    "rmse_list = []\n",
    "\n",
    "for n_estimators in range(1, 201, 10):\n",
    "    rf = RandomForestRegressor(n_estimators=n_estimators, random_state=42, criterion='mae')\n",
    "    rf.fit(X_train, y_train)\n",
    "    y_pred = rf.predict(X_test)\n",
    "    n_estimators_list.append(n_estimators)\n",
    "    rmse_list.append(np.sqrt(metrics.mean_squared_error(y_test, y_pred)))"
   ]
  },
  {
   "cell_type": "code",
   "execution_count": 64,
   "id": "af2ebb28",
   "metadata": {
    "scrolled": true
   },
   "outputs": [
    {
     "data": {
      "image/png": "[encoded data removed]",
      "text/plain": [
       "<Figure size 432x288 with 1 Axes>"
      ]
     },
     "metadata": {
      "needs_background": "light"
     },
     "output_type": "display_data"
    }
   ],
   "source": [
    "plt.plot(n_estimators_list, rmse_list, '-');"
   ]
  },
  {
   "cell_type": "code",
   "execution_count": 66,
   "id": "555367f2",
   "metadata": {},
   "outputs": [],
   "source": [
    "min_n_estimators = None\n",
    "min_rmse = None\n",
    "\n",
    "for (n_estimators, rmse) in zip(n_estimators_list, rmse_list):\n",
    "    if min_rmse == None or rmse < min_rmse:\n",
    "        min_n_estimators = n_estimators\n",
    "        min_rmse = rmse"
   ]
  },
  {
   "cell_type": "code",
   "execution_count": 67,
   "id": "bfc58c6a",
   "metadata": {
    "scrolled": true
   },
   "outputs": [
    {
     "name": "stdout",
     "output_type": "stream",
     "text": [
      "Optimal number of estimators is: 11, with RMSE = 54.18843766763814\n"
     ]
    }
   ],
   "source": [
    "print(f'Optimal number of estimators is: {min_n_estimators}, with RMSE = {min_rmse}')"
   ]
  },
  {
   "cell_type": "markdown",
   "id": "90e15008",
   "metadata": {},
   "source": [
    "- MAE gives us a slightly better result, with less number of estimators"
   ]
  },
  {
   "cell_type": "markdown",
   "id": "aef0201f",
   "metadata": {},
   "source": [
    "## Find important features"
   ]
  },
  {
   "cell_type": "code",
   "execution_count": 120,
   "id": "83373001",
   "metadata": {},
   "outputs": [],
   "source": [
    "import matplotlib.pyplot as plt"
   ]
  },
  {
   "cell_type": "code",
   "execution_count": 121,
   "id": "8c7d8571",
   "metadata": {},
   "outputs": [],
   "source": [
    "importances = rf.feature_importances_"
   ]
  },
  {
   "cell_type": "code",
   "execution_count": 130,
   "id": "f4af9329",
   "metadata": {},
   "outputs": [
    {
     "data": {
      "image/png": "[encoded data removed]",
      "text/plain": [
       "<Figure size 432x288 with 1 Axes>"
      ]
     },
     "metadata": {
      "needs_background": "light"
     },
     "output_type": "display_data"
    }
   ],
   "source": [
    "indices = [0, 1, 2, 3]\n",
    "plt.figure()\n",
    "plt.title(\"Feature importances\")\n",
    "plt.bar(range(X.shape[1]), importances[indices], color=\"r\", align=\"center\")\n",
    "plt.xticks(range(X.shape[1]), ['tax', 'income', 'paved_high.', 'license (%)'])\n",
    "plt.xlim([-1, X.shape[1]])\n",
    "plt.show()"
   ]
  },
  {
   "cell_type": "markdown",
   "id": "91fcf4b6",
   "metadata": {},
   "source": [
    "The 'Population_Driver_licence(%)' turns out to be the most important variable."
   ]
  }
 ],
 "metadata": {
  "kernelspec": {
   "display_name": "Python 3",
   "language": "python",
   "name": "python3"
  },
  "language_info": {
   "codemirror_mode": {
    "name": "ipython",
    "version": 3
   },
   "file_extension": ".py",
   "mimetype": "text/x-python",
   "name": "python",
   "nbconvert_exporter": "python",
   "pygments_lexer": "ipython3",
   "version": "3.7.10"
  }
 },
 "nbformat": 4,
 "nbformat_minor": 5
}
